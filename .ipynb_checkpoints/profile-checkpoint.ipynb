{
 "cells": [
  {
   "cell_type": "markdown",
   "metadata": {},
   "source": [
    "## cProfiler analyzer\n",
    "`python -m cProfile -o profile.prof day11/part_2.py`\n",
    "\n",
    "---------------------"
   ]
  },
  {
   "cell_type": "code",
   "execution_count": 8,
   "metadata": {},
   "outputs": [],
   "source": [
    "import pstats\n",
    "from pstats import SortKey"
   ]
  },
  {
   "cell_type": "code",
   "execution_count": null,
   "metadata": {},
   "outputs": [],
   "source": [
    "p = pstats.Stats('profile.prof')"
   ]
  },
  {
   "cell_type": "code",
   "execution_count": 34,
   "metadata": {},
   "outputs": [
    {
     "name": "stdout",
     "output_type": "stream",
     "text": [
      "Sun Dec 12 17:36:41 2021    profile_stack.prof\n",
      "\n",
      "         2434818 function calls (1115537 primitive calls) in 0.836 seconds\n",
      "\n",
      "   Ordered by: call count\n",
      "   List reduced from 22 to 10 due to restriction <10>\n",
      "\n",
      "   ncalls  tottime  percall  cumtime  percall filename:lineno(function)\n",
      "1319283/2    0.750    0.000    0.835    0.418 scratch.py:19(dfs)\n",
      "  1115443    0.086    0.000    0.086    0.000 {method 'islower' of 'str' objects}\n",
      "       48    0.000    0.000    0.000    0.000 {method 'append' of 'list' objects}\n",
      "       25    0.000    0.000    0.000    0.000 {method 'split' of 'str' objects}\n",
      "        2    0.000    0.000    0.000    0.000 {built-in method builtins.print}\n",
      "        1    0.000    0.000    0.000    0.000 <frozen importlib._bootstrap>:1033(_handle_fromlist)\n",
      "        1    0.000    0.000    0.000    0.000 codecs.py:260(__init__)\n",
      "        1    0.000    0.000    0.000    0.000 cp1252.py:22(decode)\n",
      "        1    0.000    0.000    0.000    0.000 _bootlocale.py:11(getpreferredencoding)\n",
      "        1    0.000    0.000    0.027    0.027 scratch.py:36(part_one)\n",
      "\n",
      "\n"
     ]
    },
    {
     "data": {
      "text/plain": [
       "<pstats.Stats at 0x1c1a5fe2610>"
      ]
     },
     "execution_count": 34,
     "metadata": {},
     "output_type": "execute_result"
    }
   ],
   "source": [
    "p_s = pstats.Stats('profile_stack.prof')\n",
    "p_s.strip_dirs().sort_stats(SortKey.CALLS).print_stats(10)"
   ]
  },
  {
   "cell_type": "code",
   "execution_count": 23,
   "metadata": {},
   "outputs": [
    {
     "name": "stdout",
     "output_type": "stream",
     "text": [
      "Sun Dec 12 17:26:27 2021    profile_recursive.prof\n",
      "\n",
      "         2333178 function calls (1115531 primitive calls) in 0.771 seconds\n",
      "\n",
      "   Ordered by: call count\n",
      "   List reduced from 21 to 10 due to restriction <10>\n",
      "\n",
      "   ncalls  tottime  percall  cumtime  percall filename:lineno(function)\n",
      "1176961/1    0.663    0.000    0.745    0.745 part_1_recursive.py:25(paths_2)\n",
      "  1115443    0.085    0.000    0.085    0.000 {method 'islower' of 'str' objects}\n",
      "  40688/1    0.022    0.000    0.025    0.025 part_1_recursive.py:13(paths)\n",
      "       45    0.000    0.000    0.000    0.000 {method 'add' of 'set' objects}\n",
      "       24    0.000    0.000    0.000    0.000 {method 'split' of 'str' objects}\n",
      "        2    0.000    0.000    0.000    0.000 {built-in method builtins.print}\n",
      "        1    0.000    0.000    0.000    0.000 <frozen importlib._bootstrap>:1033(_handle_fromlist)\n",
      "        1    0.000    0.000    0.000    0.000 codecs.py:260(__init__)\n",
      "        1    0.000    0.000    0.000    0.000 cp1252.py:22(decode)\n",
      "        1    0.000    0.000    0.000    0.000 _bootlocale.py:11(getpreferredencoding)\n",
      "\n",
      "\n"
     ]
    },
    {
     "data": {
      "text/plain": [
       "<pstats.Stats at 0x1c1a5edaa00>"
      ]
     },
     "execution_count": 23,
     "metadata": {},
     "output_type": "execute_result"
    }
   ],
   "source": [
    "p_r = pstats.Stats('profile_recursive.prof')\n",
    "p_r.strip_dirs().sort_stats(SortKey.CALLS).print_stats(10)"
   ]
  },
  {
   "cell_type": "code",
   "execution_count": 30,
   "metadata": {},
   "outputs": [
    {
     "name": "stdout",
     "output_type": "stream",
     "text": [
      "Sun Dec 12 17:26:10 2021    profile_stack.prof\n",
      "\n",
      "         1759396 function calls in 0.796 seconds\n",
      "\n",
      "   Ordered by: cumulative time\n",
      "   List reduced from 21 to 10 due to restriction <10>\n",
      "\n",
      "   ncalls  tottime  percall  cumtime  percall filename:lineno(function)\n",
      "        1    0.000    0.000    0.796    0.796 {built-in method builtins.exec}\n",
      "        1    0.658    0.658    0.796    0.796 part_1_stack.py:1(<module>)\n",
      "  1115441    0.086    0.000    0.086    0.000 {method 'isupper' of 'str' objects}\n",
      "   321935    0.027    0.000    0.027    0.000 {method 'pop' of 'list' objects}\n",
      "   321933    0.025    0.000    0.025    0.000 {method 'append' of 'list' objects}\n",
      "        3    0.000    0.000    0.000    0.000 {built-in method builtins.print}\n",
      "        1    0.000    0.000    0.000    0.000 {built-in method io.open}\n",
      "        1    0.000    0.000    0.000    0.000 {method 'read' of '_io.TextIOWrapper' objects}\n",
      "        1    0.000    0.000    0.000    0.000 part_1_stack.py:3(<listcomp>)\n",
      "        1    0.000    0.000    0.000    0.000 _bootlocale.py:11(getpreferredencoding)\n",
      "\n",
      "\n"
     ]
    },
    {
     "data": {
      "text/plain": [
       "<pstats.Stats at 0x1c1a5fc2580>"
      ]
     },
     "execution_count": 30,
     "metadata": {},
     "output_type": "execute_result"
    }
   ],
   "source": [
    "p_s.strip_dirs().sort_stats(SortKey.CUMULATIVE).print_stats(10)\n"
   ]
  },
  {
   "cell_type": "code",
   "execution_count": 29,
   "metadata": {},
   "outputs": [
    {
     "name": "stdout",
     "output_type": "stream",
     "text": [
      "Sun Dec 12 17:26:27 2021    profile_recursive.prof\n",
      "\n",
      "         2333178 function calls (1115531 primitive calls) in 0.771 seconds\n",
      "\n",
      "   Ordered by: cumulative time\n",
      "   List reduced from 21 to 10 due to restriction <10>\n",
      "\n",
      "   ncalls  tottime  percall  cumtime  percall filename:lineno(function)\n",
      "        1    0.000    0.000    0.771    0.771 {built-in method builtins.exec}\n",
      "        1    0.000    0.000    0.771    0.771 part_1_recursive.py:1(<module>)\n",
      "1176961/1    0.663    0.000    0.745    0.745 part_1_recursive.py:25(paths_2)\n",
      "  1115443    0.085    0.000    0.085    0.000 {method 'islower' of 'str' objects}\n",
      "  40688/1    0.022    0.000    0.025    0.025 part_1_recursive.py:13(paths)\n",
      "        2    0.000    0.000    0.000    0.000 {built-in method builtins.print}\n",
      "        1    0.000    0.000    0.000    0.000 {built-in method io.open}\n",
      "        1    0.000    0.000    0.000    0.000 {method 'read' of '_io.TextIOWrapper' objects}\n",
      "        1    0.000    0.000    0.000    0.000 part_1_recursive.py:4(<listcomp>)\n",
      "        1    0.000    0.000    0.000    0.000 _bootlocale.py:11(getpreferredencoding)\n",
      "\n",
      "\n"
     ]
    },
    {
     "data": {
      "text/plain": [
       "<pstats.Stats at 0x1c1a5edaa00>"
      ]
     },
     "execution_count": 29,
     "metadata": {},
     "output_type": "execute_result"
    }
   ],
   "source": [
    "p_r.strip_dirs().sort_stats(SortKey.CUMULATIVE).print_stats(10)"
   ]
  },
  {
   "cell_type": "code",
   "execution_count": 27,
   "metadata": {},
   "outputs": [
    {
     "name": "stdout",
     "output_type": "stream",
     "text": [
      "Sun Dec 12 17:26:10 2021    profile_stack.prof\n",
      "\n",
      "         1759396 function calls in 0.796 seconds\n",
      "\n",
      "   Ordered by: internal time\n",
      "   List reduced from 21 to 10 due to restriction <10>\n",
      "\n",
      "   ncalls  tottime  percall  cumtime  percall filename:lineno(function)\n",
      "        1    0.658    0.658    0.796    0.796 part_1_stack.py:1(<module>)\n",
      "  1115441    0.086    0.000    0.086    0.000 {method 'isupper' of 'str' objects}\n",
      "   321935    0.027    0.000    0.027    0.000 {method 'pop' of 'list' objects}\n",
      "   321933    0.025    0.000    0.025    0.000 {method 'append' of 'list' objects}\n",
      "        3    0.000    0.000    0.000    0.000 {built-in method builtins.print}\n",
      "        1    0.000    0.000    0.000    0.000 {built-in method io.open}\n",
      "        1    0.000    0.000    0.000    0.000 {method 'read' of '_io.TextIOWrapper' objects}\n",
      "        1    0.000    0.000    0.000    0.000 part_1_stack.py:3(<listcomp>)\n",
      "        1    0.000    0.000    0.000    0.000 {built-in method _locale._getdefaultlocale}\n",
      "        1    0.000    0.000    0.000    0.000 <frozen importlib._bootstrap>:1033(_handle_fromlist)\n",
      "\n",
      "\n"
     ]
    },
    {
     "data": {
      "text/plain": [
       "<pstats.Stats at 0x1c1a5fc2580>"
      ]
     },
     "execution_count": 27,
     "metadata": {},
     "output_type": "execute_result"
    }
   ],
   "source": [
    "p_s.strip_dirs().sort_stats(SortKey.TIME).print_stats(10)"
   ]
  },
  {
   "cell_type": "code",
   "execution_count": 26,
   "metadata": {},
   "outputs": [
    {
     "name": "stdout",
     "output_type": "stream",
     "text": [
      "Sun Dec 12 17:26:27 2021    profile_recursive.prof\n",
      "\n",
      "         2333178 function calls (1115531 primitive calls) in 0.771 seconds\n",
      "\n",
      "   Ordered by: internal time\n",
      "   List reduced from 21 to 10 due to restriction <10>\n",
      "\n",
      "   ncalls  tottime  percall  cumtime  percall filename:lineno(function)\n",
      "1176961/1    0.663    0.000    0.745    0.745 part_1_recursive.py:25(paths_2)\n",
      "  1115443    0.085    0.000    0.085    0.000 {method 'islower' of 'str' objects}\n",
      "  40688/1    0.022    0.000    0.025    0.025 part_1_recursive.py:13(paths)\n",
      "        2    0.000    0.000    0.000    0.000 {built-in method builtins.print}\n",
      "        1    0.000    0.000    0.771    0.771 part_1_recursive.py:1(<module>)\n",
      "        1    0.000    0.000    0.000    0.000 {built-in method io.open}\n",
      "        1    0.000    0.000    0.000    0.000 {method 'read' of '_io.TextIOWrapper' objects}\n",
      "        1    0.000    0.000    0.000    0.000 part_1_recursive.py:4(<listcomp>)\n",
      "       24    0.000    0.000    0.000    0.000 {method 'split' of 'str' objects}\n",
      "       45    0.000    0.000    0.000    0.000 {method 'add' of 'set' objects}\n",
      "\n",
      "\n"
     ]
    },
    {
     "data": {
      "text/plain": [
       "<pstats.Stats at 0x1c1a5edaa00>"
      ]
     },
     "execution_count": 26,
     "metadata": {},
     "output_type": "execute_result"
    }
   ],
   "source": [
    "p_r.strip_dirs().sort_stats(SortKey.TIME).print_stats(10)"
   ]
  },
  {
   "cell_type": "code",
   "execution_count": null,
   "metadata": {},
   "outputs": [],
   "source": []
  }
 ],
 "metadata": {
  "interpreter": {
   "hash": "9516f82484a805076c8b3d56286837d61dfa5020578d92981fe190c10fe464e5"
  },
  "kernelspec": {
   "display_name": "Python 3.9.5 64-bit ('py39': conda)",
   "language": "python",
   "name": "python3"
  },
  "language_info": {
   "codemirror_mode": {
    "name": "ipython",
    "version": 3
   },
   "file_extension": ".py",
   "mimetype": "text/x-python",
   "name": "python",
   "nbconvert_exporter": "python",
   "pygments_lexer": "ipython3",
   "version": "3.9.5"
  },
  "orig_nbformat": 4
 },
 "nbformat": 4,
 "nbformat_minor": 2
}
