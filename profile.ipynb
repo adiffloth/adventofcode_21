{
 "cells": [
  {
   "cell_type": "markdown",
   "metadata": {},
   "source": [
    "## cProfiler analyzer\n",
    "`python -m cProfile -o profile.prof day11/part_2.py`\n",
    "\n",
    "---------------------"
   ]
  },
  {
   "cell_type": "code",
   "execution_count": 27,
   "metadata": {},
   "outputs": [],
   "source": [
    "import pstats\n",
    "from pstats import SortKey"
   ]
  },
  {
   "cell_type": "code",
   "execution_count": 28,
   "metadata": {},
   "outputs": [],
   "source": [
    "p = pstats.Stats('profile.prof')"
   ]
  },
  {
   "cell_type": "code",
   "execution_count": 29,
   "metadata": {},
   "outputs": [
    {
     "name": "stdout",
     "output_type": "stream",
     "text": [
      "Sat Dec 11 19:47:29 2021    profile.prof\n",
      "\n",
      "         114832 function calls (112685 primitive calls) in 0.197 seconds\n",
      "\n",
      "   Ordered by: call count\n",
      "   List reduced from 878 to 10 due to restriction <10>\n",
      "\n",
      "   ncalls  tottime  percall  cumtime  percall filename:lineno(function)\n",
      "    17676    0.002    0.000    0.002    0.000 {method 'append' of 'list' objects}\n",
      "    10000    0.017    0.000    0.028    0.000 part_1.py:13(visit_pt)\n",
      "7010/6870    0.001    0.000    0.001    0.000 {built-in method builtins.len}\n",
      "     6194    0.001    0.000    0.001    0.000 {built-in method builtins.isinstance}\n",
      "     4729    0.001    0.000    0.001    0.000 {method 'endswith' of 'str' objects}\n",
      "     4230    0.001    0.000    0.001    0.000 {method 'rstrip' of 'str' objects}\n",
      "     3890    0.001    0.000    0.001    0.000 {built-in method builtins.getattr}\n",
      "     3171    0.001    0.000    0.001    0.000 {method 'startswith' of 'str' objects}\n",
      "     2003    0.000    0.000    0.000    0.000 {method 'add' of 'set' objects}\n",
      "     1783    0.000    0.000    0.000    0.000 {method 'pop' of 'list' objects}\n",
      "\n",
      "\n"
     ]
    },
    {
     "data": {
      "text/plain": [
       "<pstats.Stats at 0x1c103812610>"
      ]
     },
     "execution_count": 29,
     "metadata": {},
     "output_type": "execute_result"
    }
   ],
   "source": [
    "p.strip_dirs().sort_stats(SortKey.CALLS).print_stats(10)"
   ]
  },
  {
   "cell_type": "code",
   "execution_count": 30,
   "metadata": {},
   "outputs": [
    {
     "name": "stdout",
     "output_type": "stream",
     "text": [
      "Sat Dec 11 19:47:29 2021    profile.prof\n",
      "\n",
      "         114832 function calls (112685 primitive calls) in 0.197 seconds\n",
      "\n",
      "   Ordered by: cumulative time\n",
      "   List reduced from 878 to 10 due to restriction <10>\n",
      "\n",
      "   ncalls  tottime  percall  cumtime  percall filename:lineno(function)\n",
      "       12    0.001    0.000    0.337    0.028 __init__.py:1(<module>)\n",
      "    428/1    0.001    0.000    0.198    0.198 {built-in method builtins.exec}\n",
      "        1    0.004    0.004    0.198    0.198 part_1.py:1(<module>)\n",
      "    149/1    0.001    0.000    0.166    0.166 <frozen importlib._bootstrap>:1002(_find_and_load)\n",
      "    149/1    0.001    0.000    0.166    0.166 <frozen importlib._bootstrap>:967(_find_and_load_unlocked)\n",
      "    139/1    0.001    0.000    0.165    0.165 <frozen importlib._bootstrap>:659(_load_unlocked)\n",
      "    107/1    0.000    0.000    0.165    0.165 <frozen importlib._bootstrap_external>:849(exec_module)\n",
      "    217/1    0.000    0.000    0.164    0.164 <frozen importlib._bootstrap>:220(_call_with_frames_removed)\n",
      "   178/15    0.000    0.000    0.158    0.011 <frozen importlib._bootstrap>:1033(_handle_fromlist)\n",
      "    326/8    0.000    0.000    0.158    0.020 {built-in method builtins.__import__}\n",
      "\n",
      "\n"
     ]
    },
    {
     "data": {
      "text/plain": [
       "<pstats.Stats at 0x1c103812610>"
      ]
     },
     "execution_count": 30,
     "metadata": {},
     "output_type": "execute_result"
    }
   ],
   "source": [
    "p.strip_dirs().sort_stats(SortKey.CUMULATIVE).print_stats(10)"
   ]
  },
  {
   "cell_type": "code",
   "execution_count": 32,
   "metadata": {},
   "outputs": [
    {
     "name": "stdout",
     "output_type": "stream",
     "text": [
      "Sat Dec 11 19:47:29 2021    profile.prof\n",
      "\n",
      "         114832 function calls (112685 primitive calls) in 0.197 seconds\n",
      "\n",
      "   Ordered by: internal time\n",
      "   List reduced from 878 to 10 due to restriction <10>\n",
      "\n",
      "   ncalls  tottime  percall  cumtime  percall filename:lineno(function)\n",
      "      569    0.023    0.000    0.023    0.000 {built-in method nt.stat}\n",
      "       20    0.023    0.001    0.025    0.001 {built-in method _imp.create_dynamic}\n",
      "      107    0.017    0.000    0.017    0.000 {built-in method io.open_code}\n",
      "    10000    0.017    0.000    0.028    0.000 part_1.py:13(visit_pt)\n",
      "      320    0.015    0.000    0.015    0.000 {built-in method builtins.compile}\n",
      "     1735    0.009    0.000    0.010    0.000 part_1.py:5(neighbors_8)\n",
      "      107    0.009    0.000    0.009    0.000 {built-in method marshal.loads}\n",
      "     1338    0.007    0.000    0.010    0.000 <frozen importlib._bootstrap_external>:91(_path_join)\n",
      "      107    0.005    0.000    0.005    0.000 {method 'read' of '_io.BufferedReader' objects}\n",
      "        1    0.004    0.004    0.198    0.198 part_1.py:1(<module>)\n",
      "\n",
      "\n"
     ]
    },
    {
     "data": {
      "text/plain": [
       "<pstats.Stats at 0x1c103812610>"
      ]
     },
     "execution_count": 32,
     "metadata": {},
     "output_type": "execute_result"
    }
   ],
   "source": [
    "p.strip_dirs().sort_stats(SortKey.TIME).print_stats(10)"
   ]
  },
  {
   "cell_type": "code",
   "execution_count": null,
   "metadata": {},
   "outputs": [],
   "source": []
  }
 ],
 "metadata": {
  "interpreter": {
   "hash": "9516f82484a805076c8b3d56286837d61dfa5020578d92981fe190c10fe464e5"
  },
  "kernelspec": {
   "display_name": "Python 3.9.5 64-bit ('py39': conda)",
   "language": "python",
   "name": "python3"
  },
  "language_info": {
   "codemirror_mode": {
    "name": "ipython",
    "version": 3
   },
   "file_extension": ".py",
   "mimetype": "text/x-python",
   "name": "python",
   "nbconvert_exporter": "python",
   "pygments_lexer": "ipython3",
   "version": "3.9.5"
  },
  "orig_nbformat": 4
 },
 "nbformat": 4,
 "nbformat_minor": 2
}
