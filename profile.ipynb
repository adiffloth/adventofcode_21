{
 "cells": [
  {
   "cell_type": "markdown",
   "metadata": {},
   "source": [
    "## cProfiler analyzer\n",
    "`python -m cProfile -o profile.prof day11/part_2.py`\n",
    "\n",
    "---------------------"
   ]
  },
  {
   "cell_type": "code",
   "execution_count": 1,
   "metadata": {},
   "outputs": [],
   "source": [
    "import pstats\n",
    "from pstats import SortKey"
   ]
  },
  {
   "cell_type": "code",
   "execution_count": 22,
   "metadata": {},
   "outputs": [],
   "source": [
    "p_dijks = pstats.Stats('dijkstra.prof')\n",
    "p_dijks_2 = pstats.Stats('dijks_2.prof')\n",
    "p_astar = pstats.Stats('astar.prof')\n",
    "p_astar_2 = pstats.Stats('astar_2.prof')\n",
    "p_pypy = pstats.Stats('pypy.prof')"
   ]
  },
  {
   "cell_type": "code",
   "execution_count": 30,
   "metadata": {},
   "outputs": [],
   "source": [
    "p_base = pstats.Stats('baseline.prof')"
   ]
  },
  {
   "cell_type": "code",
   "execution_count": 31,
   "metadata": {},
   "outputs": [
    {
     "name": "stdout",
     "output_type": "stream",
     "text": [
      "Mon Dec 20 11:57:04 2021    baseline.prof\n",
      "\n",
      "         3074631 function calls (3072356 primitive calls) in 2.888 seconds\n",
      "\n",
      "   Ordered by: cumulative time\n",
      "   List reduced from 975 to 10 due to restriction <10>\n",
      "\n",
      "   ncalls  tottime  percall  cumtime  percall filename:lineno(function)\n",
      "    426/1    0.001    0.000    3.019    3.019 {built-in method builtins.exec}\n",
      "        1    0.322    0.322    3.019    3.019 part_1.py:1(<module>)\n",
      "        1    1.212    1.212    2.451    2.451 part_1.py:29(shortest_path)\n",
      "   249991    0.443    0.000    0.514    0.000 part_1.py:12(neighbors)\n",
      "       13    0.001    0.000    0.423    0.033 __init__.py:1(<module>)\n",
      "   249997    0.095    0.000    0.295    0.000 part_1.py:30(<lambda>)\n",
      "    152/2    0.001    0.000    0.244    0.122 <frozen importlib._bootstrap>:1002(_find_and_load)\n",
      "    152/2    0.001    0.000    0.244    0.122 <frozen importlib._bootstrap>:967(_find_and_load_unlocked)\n",
      "    141/2    0.001    0.000    0.243    0.121 <frozen importlib._bootstrap>:659(_load_unlocked)\n",
      "    224/3    0.000    0.000    0.242    0.081 <frozen importlib._bootstrap>:220(_call_with_frames_removed)\n",
      "\n",
      "\n"
     ]
    },
    {
     "data": {
      "text/plain": [
       "<pstats.Stats at 0x7f7f78f04a60>"
      ]
     },
     "execution_count": 31,
     "metadata": {},
     "output_type": "execute_result"
    }
   ],
   "source": [
    "p_base.strip_dirs().sort_stats(SortKey.CUMULATIVE).print_stats(10)"
   ]
  },
  {
   "cell_type": "code",
   "execution_count": 37,
   "metadata": {},
   "outputs": [
    {
     "name": "stdout",
     "output_type": "stream",
     "text": [
      "Tue Dec 21 13:54:08 2021    nx.prof\n",
      "\n",
      "         16128531 function calls (16123936 primitive calls) in 7.955 seconds\n",
      "\n",
      "   Ordered by: cumulative time\n",
      "   List reduced from 1516 to 10 due to restriction <10>\n",
      "\n",
      "   ncalls  tottime  percall  cumtime  percall filename:lineno(function)\n",
      "    718/1    0.001    0.000    7.957    7.957 {built-in method builtins.exec}\n",
      "        1    1.091    1.091    7.957    7.957 part_1_copy.py:1(<module>)\n",
      "      2/1    0.000    0.000    3.363    3.363 decorators.py:794(func)\n",
      "        1    0.000    0.000    3.363    3.363 <class 'networkx.utils.decorators.argmap'> compilation 4:1(argmap_grid_2d_graph_1)\n",
      "        1    0.000    0.000    3.363    3.363 lattice.py:36(grid_2d_graph)\n",
      "        3    1.915    0.638    2.938    0.979 digraph.py:638(add_edges_from)\n",
      "        1    0.008    0.008    1.648    1.648 generic.py:168(shortest_path_length)\n",
      "        1    0.000    0.000    1.640    1.640 weighted.py:161(dijkstra_path_length)\n",
      "        1    0.003    0.003    1.640    1.640 weighted.py:741(_dijkstra)\n",
      "        1    0.993    0.993    1.636    1.636 weighted.py:755(_dijkstra_multisource)\n",
      "\n",
      "\n"
     ]
    },
    {
     "data": {
      "text/plain": [
       "<pstats.Stats at 0x7f7f791fa820>"
      ]
     },
     "execution_count": 37,
     "metadata": {},
     "output_type": "execute_result"
    }
   ],
   "source": [
    "p_nx = pstats.Stats('nx.prof')\n",
    "p_nx.strip_dirs().sort_stats(SortKey.CUMULATIVE).print_stats(10)"
   ]
  },
  {
   "cell_type": "code",
   "execution_count": 36,
   "metadata": {},
   "outputs": [
    {
     "data": {
      "text/plain": [
       "3.447"
      ]
     },
     "execution_count": 36,
     "metadata": {},
     "output_type": "execute_result"
    }
   ],
   "source": [
    "6.333 - 2.886"
   ]
  },
  {
   "cell_type": "code",
   "execution_count": null,
   "metadata": {},
   "outputs": [],
   "source": []
  },
  {
   "cell_type": "code",
   "execution_count": null,
   "metadata": {},
   "outputs": [],
   "source": []
  },
  {
   "cell_type": "code",
   "execution_count": null,
   "metadata": {},
   "outputs": [],
   "source": []
  },
  {
   "cell_type": "code",
   "execution_count": 20,
   "metadata": {},
   "outputs": [
    {
     "name": "stdout",
     "output_type": "stream",
     "text": [
      "Sun Dec 19 22:24:32 2021    dijkstra.prof\n",
      "\n",
      "         3324616 function calls (3322341 primitive calls) in 3.111 seconds\n",
      "\n",
      "   Ordered by: call count\n",
      "   List reduced from 975 to 10 due to restriction <10>\n",
      "\n",
      "   ncalls  tottime  percall  cumtime  percall filename:lineno(function)\n",
      "  1001988    0.071    0.000    0.071    0.000 {method 'append' of 'list' objects}\n",
      "   750655    0.206    0.000    0.206    0.000 {built-in method __new__ of type object at 0x10643da40}\n",
      "504997/504829    0.048    0.000    0.049    0.000 {built-in method builtins.len}\n",
      "   249997    0.047    0.000    0.047    0.000 {built-in method _heapq.heappush}\n",
      "   249997    0.096    0.000    0.306    0.000 part_1.py:18(<lambda>)\n",
      "   249992    0.217    0.000    0.217    0.000 {built-in method _heapq.heappop}\n",
      "   249991    0.451    0.000    0.522    0.000 part_1.py:9(neighbors)\n",
      "     6576    0.001    0.000    0.001    0.000 {built-in method builtins.isinstance}\n",
      "     3952    0.001    0.000    0.001    0.000 {built-in method builtins.getattr}\n",
      "     2990    0.000    0.000    0.000    0.000 {method 'rstrip' of 'str' objects}\n",
      "\n",
      "\n"
     ]
    },
    {
     "data": {
      "text/plain": [
       "<pstats.Stats at 0x7f7f6869f640>"
      ]
     },
     "execution_count": 20,
     "metadata": {},
     "output_type": "execute_result"
    }
   ],
   "source": [
    "p_dijks.strip_dirs().sort_stats(SortKey.CALLS).print_stats(10)"
   ]
  },
  {
   "cell_type": "code",
   "execution_count": 23,
   "metadata": {},
   "outputs": [
    {
     "name": "stdout",
     "output_type": "stream",
     "text": [
      "Sun Dec 19 23:51:16 2021    pypy.prof\n",
      "\n",
      "         4107006 function calls (4101806 primitive calls) in 12.289 seconds\n",
      "\n",
      "   Ordered by: call count\n",
      "   List reduced from 1133 to 10 due to restriction <10>\n",
      "\n",
      "   ncalls  tottime  percall  cumtime  percall filename:lineno(function)\n",
      "  1252684    0.025    0.000    0.025    0.000 {method 'append' of 'list' objects}\n",
      "506665/506459    0.008    0.000    0.008    0.000 {built-in function len}\n",
      "   499988    1.060    0.000    1.060    0.000 heapq.py:205(_siftdown)\n",
      "   250045    0.002    0.000    0.002    0.000 {method 'pop' of 'list' objects}\n",
      "   249998    0.016    0.000    0.023    0.000 <string>:1(__new__)\n",
      "   249997    0.023    0.000    0.046    0.000 part_1.py:21(<lambda>)\n",
      "   249997    0.019    0.000    0.691    0.000 heapq.py:130(heappush)\n",
      "   249992    0.016    0.000    3.057    0.000 heapq.py:135(heappop)\n",
      "   249991    0.154    0.000    0.171    0.000 part_1.py:12(neighbors)\n",
      "   249991    2.638    0.000    3.039    0.000 heapq.py:258(_siftup)\n",
      "\n",
      "\n"
     ]
    }
   ],
   "source": [
    "p_pypy.strip_dirs().sort_stats(SortKey.CALLS).print_stats(10);"
   ]
  },
  {
   "cell_type": "code",
   "execution_count": 25,
   "metadata": {},
   "outputs": [
    {
     "name": "stdout",
     "output_type": "stream",
     "text": [
      "Sun Dec 19 23:38:38 2021    dijks_2.prof\n",
      "\n",
      "         2824634 function calls (2822359 primitive calls) in 2.952 seconds\n",
      "\n",
      "   Ordered by: call count\n",
      "   List reduced from 975 to 20 due to restriction <20>\n",
      "\n",
      "   ncalls  tottime  percall  cumtime  percall filename:lineno(function)\n",
      "  1001988    0.071    0.000    0.071    0.000 {method 'append' of 'list' objects}\n",
      "   750655    0.202    0.000    0.202    0.000 {built-in method __new__ of type object at 0x10f6d5a40}\n",
      "   249997    0.045    0.000    0.045    0.000 {built-in method _heapq.heappush}\n",
      "   249997    0.092    0.000    0.295    0.000 part_1.py:21(<lambda>)\n",
      "   249992    0.208    0.000    0.208    0.000 {built-in method _heapq.heappop}\n",
      "   249991    0.446    0.000    0.516    0.000 part_1.py:12(neighbors)\n",
      "     6576    0.001    0.000    0.001    0.000 {built-in method builtins.isinstance}\n",
      "5015/4847    0.001    0.000    0.001    0.000 {built-in method builtins.len}\n",
      "     3952    0.001    0.000    0.001    0.000 {built-in method builtins.getattr}\n",
      "     2990    0.000    0.000    0.000    0.000 {method 'rstrip' of 'str' objects}\n",
      "     1792    0.001    0.000    0.001    0.000 {method 'join' of 'str' objects}\n",
      "     1779    0.000    0.000    0.000    0.000 {built-in method builtins.setattr}\n",
      "     1604    0.001    0.000    0.001    0.000 {built-in method builtins.hasattr}\n",
      "     1517    0.001    0.000    0.001    0.000 <frozen importlib._bootstrap>:231(_verbose_message)\n",
      "     1385    0.001    0.000    0.001    0.000 <frozen importlib._bootstrap_external>:123(<listcomp>)\n",
      "     1385    0.001    0.000    0.003    0.000 <frozen importlib._bootstrap_external>:121(_path_join)\n",
      "     1114    0.000    0.000    0.001    0.000 sre_parse.py:164(__getitem__)\n",
      "     1060    0.000    0.000    0.000    0.000 {built-in method _imp.acquire_lock}\n",
      "     1060    0.000    0.000    0.000    0.000 {built-in method _imp.release_lock}\n",
      "     1029    0.000    0.000    0.000    0.000 {built-in method builtins.min}\n",
      "\n",
      "\n"
     ]
    },
    {
     "data": {
      "text/plain": [
       "<pstats.Stats at 0x7f7f68689610>"
      ]
     },
     "execution_count": 25,
     "metadata": {},
     "output_type": "execute_result"
    }
   ],
   "source": [
    "p_dijks_2.strip_dirs().sort_stats(SortKey.CALLS).print_stats(20)"
   ]
  },
  {
   "cell_type": "code",
   "execution_count": 24,
   "metadata": {},
   "outputs": [
    {
     "name": "stdout",
     "output_type": "stream",
     "text": [
      "Mon Dec 20 11:45:32 2021    quicker.prof\n",
      "\n",
      "         2858050 function calls (2852850 primitive calls) in 13.119 seconds\n",
      "\n",
      "   Ordered by: call count\n",
      "   List reduced from 1133 to 10 due to restriction <10>\n",
      "\n",
      "   ncalls  tottime  percall  cumtime  percall filename:lineno(function)\n",
      "506666/506460    0.006    0.000    0.007    0.000 {built-in function len}\n",
      "   499988    1.116    0.000    1.116    0.000 heapq.py:205(_siftdown)\n",
      "   253704    0.005    0.000    0.005    0.000 {method 'append' of 'list' objects}\n",
      "   250045    0.002    0.000    0.002    0.000 {method 'pop' of 'list' objects}\n",
      "   249998    0.013    0.000    0.024    0.000 <string>:1(__new__)\n",
      "   249997    0.027    0.000    0.052    0.000 part_1.py:74(<lambda>)\n",
      "   249997    0.024    0.000    0.500    0.000 heapq.py:130(heappush)\n",
      "   249992    0.017    0.000    3.870    0.000 heapq.py:135(heappop)\n",
      "   249991    3.203    0.000    3.852    0.000 heapq.py:258(_siftup)\n",
      "     9403    0.002    0.000    0.002    0.000 {built-in function isinstance}\n",
      "\n",
      "\n"
     ]
    },
    {
     "data": {
      "text/plain": [
       "<pstats.Stats at 0x7f7f7877af10>"
      ]
     },
     "execution_count": 24,
     "metadata": {},
     "output_type": "execute_result"
    }
   ],
   "source": [
    "p_quicker = pstats.Stats('quicker.prof')\n",
    "p_quicker.strip_dirs().sort_stats(SortKey.CALLS).print_stats(10)"
   ]
  },
  {
   "cell_type": "code",
   "execution_count": 5,
   "metadata": {},
   "outputs": [
    {
     "name": "stdout",
     "output_type": "stream",
     "text": [
      "Sun Dec 19 22:25:01 2021    astar.prof\n",
      "\n",
      "         4205925 function calls (4203650 primitive calls) in 4.287 seconds\n",
      "\n",
      "   Ordered by: call count\n",
      "   List reduced from 976 to 10 due to restriction <10>\n",
      "\n",
      "   ncalls  tottime  percall  cumtime  percall filename:lineno(function)\n",
      "  1039430    0.075    0.000    0.075    0.000 {method 'append' of 'list' objects}\n",
      "   769433    0.261    0.000    0.261    0.000 {built-in method __new__ of type object at 0x1005bca40}\n",
      "523765/523597    0.051    0.000    0.051    0.000 {built-in method builtins.len}\n",
      "   259391    0.050    0.000    0.050    0.000 {built-in method math.sqrt}\n",
      "   259391    0.058    0.000    0.101    0.000 <string>:1(<lambda>)\n",
      "   259390    0.053    0.000    0.053    0.000 {built-in method _heapq.heappush}\n",
      "   259390    0.279    0.000    0.329    0.000 part_1.py:6(L2_dist)\n",
      "   259375    0.193    0.000    0.193    0.000 {built-in method _heapq.heappop}\n",
      "   259374    0.494    0.000    0.569    0.000 part_1.py:9(neighbors)\n",
      "   249989    0.104    0.000    0.330    0.000 part_1.py:18(<lambda>)\n",
      "\n",
      "\n"
     ]
    },
    {
     "data": {
      "text/plain": [
       "<pstats.Stats at 0x7f7f78751760>"
      ]
     },
     "execution_count": 5,
     "metadata": {},
     "output_type": "execute_result"
    }
   ],
   "source": [
    "p_astar.strip_dirs().sort_stats(SortKey.CALLS).print_stats(10)"
   ]
  },
  {
   "cell_type": "code",
   "execution_count": 15,
   "metadata": {},
   "outputs": [
    {
     "name": "stdout",
     "output_type": "stream",
     "text": [
      "Sun Dec 19 22:57:15 2021    astar_2.prof\n",
      "\n",
      "         3953313 function calls (3951038 primitive calls) in 3.372 seconds\n",
      "\n",
      "   Ordered by: call count\n",
      "   List reduced from 976 to 10 due to restriction <10>\n",
      "\n",
      "   ncalls  tottime  percall  cumtime  percall filename:lineno(function)\n",
      "  1041505    0.074    0.000    0.074    0.000 {method 'append' of 'list' objects}\n",
      "   770471    0.229    0.000    0.229    0.000 {built-in method __new__ of type object at 0x105f06a40}\n",
      "   519914    0.053    0.000    0.053    0.000 {built-in method builtins.abs}\n",
      "   259910    0.051    0.000    0.086    0.000 <string>:1(<lambda>)\n",
      "   259909    0.065    0.000    0.065    0.000 {built-in method _heapq.heappush}\n",
      "   259909    0.124    0.000    0.177    0.000 part_1.py:9(L1_dist)\n",
      "   259894    0.242    0.000    0.242    0.000 {built-in method _heapq.heappop}\n",
      "   259893    0.486    0.000    0.560    0.000 part_1.py:12(neighbors)\n",
      "   249989    0.099    0.000    0.298    0.000 part_1.py:21(<lambda>)\n",
      "     6576    0.001    0.000    0.001    0.000 {built-in method builtins.isinstance}\n",
      "\n",
      "\n"
     ]
    },
    {
     "data": {
      "text/plain": [
       "<pstats.Stats at 0x7f7f787135b0>"
      ]
     },
     "execution_count": 15,
     "metadata": {},
     "output_type": "execute_result"
    }
   ],
   "source": [
    "p_astar_2.strip_dirs().sort_stats(SortKey.CALLS).print_stats(10)"
   ]
  },
  {
   "cell_type": "code",
   "execution_count": 6,
   "metadata": {},
   "outputs": [
    {
     "name": "stdout",
     "output_type": "stream",
     "text": [
      "Sun Dec 19 22:24:32 2021    dijkstra.prof\n",
      "\n",
      "         3324616 function calls (3322341 primitive calls) in 3.111 seconds\n",
      "\n",
      "   Ordered by: cumulative time\n",
      "   List reduced from 975 to 10 due to restriction <10>\n",
      "\n",
      "   ncalls  tottime  percall  cumtime  percall filename:lineno(function)\n",
      "    426/1    0.001    0.000    3.295    3.295 {built-in method builtins.exec}\n",
      "        1    0.323    0.323    3.295    3.295 part_1.py:1(<module>)\n",
      "        1    1.363    1.363    2.680    2.680 part_1.py:17(shortest_path)\n",
      "   249991    0.451    0.000    0.522    0.000 part_1.py:9(neighbors)\n",
      "       13    0.001    0.000    0.490    0.038 __init__.py:1(<module>)\n",
      "   249997    0.096    0.000    0.306    0.000 part_1.py:18(<lambda>)\n",
      "    152/2    0.001    0.000    0.289    0.145 <frozen importlib._bootstrap>:1002(_find_and_load)\n",
      "    152/2    0.001    0.000    0.289    0.144 <frozen importlib._bootstrap>:967(_find_and_load_unlocked)\n",
      "    141/2    0.001    0.000    0.287    0.143 <frozen importlib._bootstrap>:659(_load_unlocked)\n",
      "    224/3    0.000    0.000    0.286    0.095 <frozen importlib._bootstrap>:220(_call_with_frames_removed)\n",
      "\n",
      "\n"
     ]
    },
    {
     "data": {
      "text/plain": [
       "<pstats.Stats at 0x7f7f7877a670>"
      ]
     },
     "execution_count": 6,
     "metadata": {},
     "output_type": "execute_result"
    }
   ],
   "source": [
    "p_dijks.strip_dirs().sort_stats(SortKey.CUMULATIVE).print_stats(10)"
   ]
  },
  {
   "cell_type": "code",
   "execution_count": 7,
   "metadata": {},
   "outputs": [
    {
     "name": "stdout",
     "output_type": "stream",
     "text": [
      "Sun Dec 19 22:25:01 2021    astar.prof\n",
      "\n",
      "         4205925 function calls (4203650 primitive calls) in 4.287 seconds\n",
      "\n",
      "   Ordered by: cumulative time\n",
      "   List reduced from 976 to 10 due to restriction <10>\n",
      "\n",
      "   ncalls  tottime  percall  cumtime  percall filename:lineno(function)\n",
      "    426/1    0.001    0.000    4.402    4.402 {built-in method builtins.exec}\n",
      "        1    0.334    0.334    4.402    4.402 part_1.py:1(<module>)\n",
      "        1    2.094    2.094    3.826    3.826 part_1.py:17(shortest_path)\n",
      "   259374    0.494    0.000    0.569    0.000 part_1.py:9(neighbors)\n",
      "       13    0.001    0.000    0.394    0.030 __init__.py:1(<module>)\n",
      "   249989    0.104    0.000    0.330    0.000 part_1.py:18(<lambda>)\n",
      "   259390    0.279    0.000    0.329    0.000 part_1.py:6(L2_dist)\n",
      "   769433    0.261    0.000    0.261    0.000 {built-in method __new__ of type object at 0x1005bca40}\n",
      "    152/2    0.001    0.000    0.239    0.120 <frozen importlib._bootstrap>:1002(_find_and_load)\n",
      "    152/2    0.001    0.000    0.239    0.120 <frozen importlib._bootstrap>:967(_find_and_load_unlocked)\n",
      "\n",
      "\n"
     ]
    },
    {
     "data": {
      "text/plain": [
       "<pstats.Stats at 0x7f7f78751760>"
      ]
     },
     "execution_count": 7,
     "metadata": {},
     "output_type": "execute_result"
    }
   ],
   "source": [
    "p_astar.strip_dirs().sort_stats(SortKey.CUMULATIVE).print_stats(10)"
   ]
  },
  {
   "cell_type": "code",
   "execution_count": 18,
   "metadata": {},
   "outputs": [
    {
     "name": "stdout",
     "output_type": "stream",
     "text": [
      "Sun Dec 19 23:13:10 2021    astar_2.prof\n",
      "\n",
      "         3953314 function calls (3951039 primitive calls) in 3.340 seconds\n",
      "\n",
      "   Ordered by: cumulative time\n",
      "   List reduced from 976 to 10 due to restriction <10>\n",
      "\n",
      "   ncalls  tottime  percall  cumtime  percall filename:lineno(function)\n",
      "    426/1    0.001    0.000    3.452    3.452 {built-in method builtins.exec}\n",
      "        1    0.335    0.335    3.452    3.452 part_1.py:1(<module>)\n",
      "        1    1.342    1.342    2.874    2.874 part_1.py:20(shortest_path)\n",
      "   259893    0.485    0.000    0.559    0.000 part_1.py:12(neighbors)\n",
      "       13    0.001    0.000    0.399    0.031 __init__.py:1(<module>)\n",
      "   249989    0.099    0.000    0.301    0.000 part_1.py:21(<lambda>)\n",
      "    152/2    0.001    0.000    0.240    0.120 <frozen importlib._bootstrap>:1002(_find_and_load)\n",
      "    152/2    0.001    0.000    0.240    0.120 <frozen importlib._bootstrap>:967(_find_and_load_unlocked)\n",
      "    141/2    0.001    0.000    0.239    0.120 <frozen importlib._bootstrap>:659(_load_unlocked)\n",
      "    224/3    0.000    0.000    0.239    0.080 <frozen importlib._bootstrap>:220(_call_with_frames_removed)\n",
      "\n",
      "\n"
     ]
    },
    {
     "data": {
      "text/plain": [
       "<pstats.Stats at 0x7f7f68689a90>"
      ]
     },
     "execution_count": 18,
     "metadata": {},
     "output_type": "execute_result"
    }
   ],
   "source": [
    "p_astar_2.strip_dirs().sort_stats(SortKey.CUMULATIVE).print_stats(10)"
   ]
  },
  {
   "cell_type": "code",
   "execution_count": 27,
   "metadata": {},
   "outputs": [
    {
     "name": "stdout",
     "output_type": "stream",
     "text": [
      "Sun Dec 12 17:26:10 2021    profile_stack.prof\n",
      "\n",
      "         1759396 function calls in 0.796 seconds\n",
      "\n",
      "   Ordered by: internal time\n",
      "   List reduced from 21 to 10 due to restriction <10>\n",
      "\n",
      "   ncalls  tottime  percall  cumtime  percall filename:lineno(function)\n",
      "        1    0.658    0.658    0.796    0.796 part_1_stack.py:1(<module>)\n",
      "  1115441    0.086    0.000    0.086    0.000 {method 'isupper' of 'str' objects}\n",
      "   321935    0.027    0.000    0.027    0.000 {method 'pop' of 'list' objects}\n",
      "   321933    0.025    0.000    0.025    0.000 {method 'append' of 'list' objects}\n",
      "        3    0.000    0.000    0.000    0.000 {built-in method builtins.print}\n",
      "        1    0.000    0.000    0.000    0.000 {built-in method io.open}\n",
      "        1    0.000    0.000    0.000    0.000 {method 'read' of '_io.TextIOWrapper' objects}\n",
      "        1    0.000    0.000    0.000    0.000 part_1_stack.py:3(<listcomp>)\n",
      "        1    0.000    0.000    0.000    0.000 {built-in method _locale._getdefaultlocale}\n",
      "        1    0.000    0.000    0.000    0.000 <frozen importlib._bootstrap>:1033(_handle_fromlist)\n",
      "\n",
      "\n"
     ]
    },
    {
     "data": {
      "text/plain": [
       "<pstats.Stats at 0x1c1a5fc2580>"
      ]
     },
     "execution_count": 27,
     "metadata": {},
     "output_type": "execute_result"
    }
   ],
   "source": [
    "p_s.strip_dirs().sort_stats(SortKey.TIME).print_stats(10)"
   ]
  },
  {
   "cell_type": "code",
   "execution_count": 26,
   "metadata": {},
   "outputs": [
    {
     "name": "stdout",
     "output_type": "stream",
     "text": [
      "Sun Dec 12 17:26:27 2021    profile_recursive.prof\n",
      "\n",
      "         2333178 function calls (1115531 primitive calls) in 0.771 seconds\n",
      "\n",
      "   Ordered by: internal time\n",
      "   List reduced from 21 to 10 due to restriction <10>\n",
      "\n",
      "   ncalls  tottime  percall  cumtime  percall filename:lineno(function)\n",
      "1176961/1    0.663    0.000    0.745    0.745 part_1_recursive.py:25(paths_2)\n",
      "  1115443    0.085    0.000    0.085    0.000 {method 'islower' of 'str' objects}\n",
      "  40688/1    0.022    0.000    0.025    0.025 part_1_recursive.py:13(paths)\n",
      "        2    0.000    0.000    0.000    0.000 {built-in method builtins.print}\n",
      "        1    0.000    0.000    0.771    0.771 part_1_recursive.py:1(<module>)\n",
      "        1    0.000    0.000    0.000    0.000 {built-in method io.open}\n",
      "        1    0.000    0.000    0.000    0.000 {method 'read' of '_io.TextIOWrapper' objects}\n",
      "        1    0.000    0.000    0.000    0.000 part_1_recursive.py:4(<listcomp>)\n",
      "       24    0.000    0.000    0.000    0.000 {method 'split' of 'str' objects}\n",
      "       45    0.000    0.000    0.000    0.000 {method 'add' of 'set' objects}\n",
      "\n",
      "\n"
     ]
    },
    {
     "data": {
      "text/plain": [
       "<pstats.Stats at 0x1c1a5edaa00>"
      ]
     },
     "execution_count": 26,
     "metadata": {},
     "output_type": "execute_result"
    }
   ],
   "source": [
    "p_r.strip_dirs().sort_stats(SortKey.TIME).print_stats(10)"
   ]
  },
  {
   "cell_type": "code",
   "execution_count": null,
   "metadata": {},
   "outputs": [],
   "source": []
  }
 ],
 "metadata": {
  "interpreter": {
   "hash": "9516f82484a805076c8b3d56286837d61dfa5020578d92981fe190c10fe464e5"
  },
  "kernelspec": {
   "display_name": "Python 3 (ipykernel)",
   "language": "python",
   "name": "python3"
  },
  "language_info": {
   "codemirror_mode": {
    "name": "ipython",
    "version": 3
   },
   "file_extension": ".py",
   "mimetype": "text/x-python",
   "name": "python",
   "nbconvert_exporter": "python",
   "pygments_lexer": "ipython3",
   "version": "3.9.6"
  }
 },
 "nbformat": 4,
 "nbformat_minor": 4
}
